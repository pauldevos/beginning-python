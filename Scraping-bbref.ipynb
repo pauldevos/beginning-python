{
 "cells": [
  {
   "cell_type": "code",
   "execution_count": 119,
   "metadata": {},
   "outputs": [],
   "source": [
    "import pandas as pd\n",
    "import requests\n",
    "from bs4 import BeautifulSoup, Tag, NavigableString\n",
    "\n",
    "# formatting \n",
    "pd.set_option('display.float_format', lambda x: '%.3f' % x)\n",
    "pd.set_option('display.max_columns', 500)\n",
    "pd.set_option('display.max_rows', 5000)"
   ]
  },
  {
   "cell_type": "code",
   "execution_count": 2,
   "metadata": {},
   "outputs": [],
   "source": [
    "url = \"https://www.basketball-reference.com/players/h/hardeja01.html\""
   ]
  },
  {
   "cell_type": "code",
   "execution_count": 3,
   "metadata": {},
   "outputs": [],
   "source": [
    "r = requests.get(url)"
   ]
  },
  {
   "cell_type": "code",
   "execution_count": 12,
   "metadata": {},
   "outputs": [],
   "source": [
    "soup = BeautifulSoup(r.text, 'lxml')"
   ]
  },
  {
   "cell_type": "code",
   "execution_count": null,
   "metadata": {},
   "outputs": [],
   "source": [
    "data types\n",
    "float, int, str, bool, complex, \n",
    "\n",
    "list, set, tuple, dict #dictionary closest JSON \n",
    "\n",
    "list []\n",
    "tuple ()\n",
    "dict {}\n"
   ]
  },
  {
   "cell_type": "code",
   "execution_count": 20,
   "metadata": {},
   "outputs": [],
   "source": [
    "a = [1, 2, 3]\n",
    "b = [4, 5, 6]"
   ]
  },
  {
   "cell_type": "code",
   "execution_count": 21,
   "metadata": {},
   "outputs": [
    {
     "data": {
      "text/plain": [
       "[1, 2, 3]"
      ]
     },
     "execution_count": 21,
     "metadata": {},
     "output_type": "execute_result"
    }
   ],
   "source": [
    "a"
   ]
  },
  {
   "cell_type": "code",
   "execution_count": 22,
   "metadata": {},
   "outputs": [
    {
     "data": {
      "text/plain": [
       "[4, 5, 6]"
      ]
     },
     "execution_count": 22,
     "metadata": {},
     "output_type": "execute_result"
    }
   ],
   "source": [
    "b"
   ]
  },
  {
   "cell_type": "code",
   "execution_count": 23,
   "metadata": {},
   "outputs": [],
   "source": [
    "a.append(b)"
   ]
  },
  {
   "cell_type": "code",
   "execution_count": 24,
   "metadata": {},
   "outputs": [
    {
     "data": {
      "text/plain": [
       "[1, 2, 3, [4, 5, 6]]"
      ]
     },
     "execution_count": 24,
     "metadata": {},
     "output_type": "execute_result"
    }
   ],
   "source": [
    "a"
   ]
  },
  {
   "cell_type": "code",
   "execution_count": 25,
   "metadata": {},
   "outputs": [
    {
     "data": {
      "text/plain": [
       "4"
      ]
     },
     "execution_count": 25,
     "metadata": {},
     "output_type": "execute_result"
    }
   ],
   "source": [
    "len(a)"
   ]
  },
  {
   "cell_type": "code",
   "execution_count": 26,
   "metadata": {},
   "outputs": [],
   "source": [
    "a = [1, 2, 3]\n",
    "\n",
    "a.extend(b)"
   ]
  },
  {
   "cell_type": "code",
   "execution_count": 27,
   "metadata": {},
   "outputs": [
    {
     "data": {
      "text/plain": [
       "[1, 2, 3, 4, 5, 6]"
      ]
     },
     "execution_count": 27,
     "metadata": {},
     "output_type": "execute_result"
    }
   ],
   "source": [
    "a"
   ]
  },
  {
   "cell_type": "code",
   "execution_count": 28,
   "metadata": {},
   "outputs": [
    {
     "data": {
      "text/plain": [
       "6"
      ]
     },
     "execution_count": 28,
     "metadata": {},
     "output_type": "execute_result"
    }
   ],
   "source": [
    "len(a)"
   ]
  },
  {
   "cell_type": "code",
   "execution_count": 29,
   "metadata": {},
   "outputs": [
    {
     "data": {
      "text/plain": [
       "4"
      ]
     },
     "execution_count": 29,
     "metadata": {},
     "output_type": "execute_result"
    }
   ],
   "source": [
    "a.pop(3) # 0, 1, 2, 3"
   ]
  },
  {
   "cell_type": "code",
   "execution_count": 30,
   "metadata": {},
   "outputs": [
    {
     "data": {
      "text/plain": [
       "[1, 2, 3, 5, 6]"
      ]
     },
     "execution_count": 30,
     "metadata": {},
     "output_type": "execute_result"
    }
   ],
   "source": [
    "a"
   ]
  },
  {
   "cell_type": "code",
   "execution_count": 45,
   "metadata": {},
   "outputs": [],
   "source": [
    "a = \"Harry &Giles &!\""
   ]
  },
  {
   "cell_type": "code",
   "execution_count": 46,
   "metadata": {},
   "outputs": [
    {
     "data": {
      "text/plain": [
       "'Harry &Giles &!'"
      ]
     },
     "execution_count": 46,
     "metadata": {},
     "output_type": "execute_result"
    }
   ],
   "source": [
    "a"
   ]
  },
  {
   "cell_type": "code",
   "execution_count": 49,
   "metadata": {},
   "outputs": [],
   "source": [
    "new_a = a.replace('&','Greg')"
   ]
  },
  {
   "cell_type": "code",
   "execution_count": 53,
   "metadata": {},
   "outputs": [
    {
     "data": {
      "text/plain": [
       "'Harry Giles'"
      ]
     },
     "execution_count": 53,
     "metadata": {},
     "output_type": "execute_result"
    }
   ],
   "source": [
    "new_a.replace('Greg', '').replace('!','').strip()"
   ]
  },
  {
   "cell_type": "code",
   "execution_count": 54,
   "metadata": {},
   "outputs": [],
   "source": [
    "s = \"Luka Dončić\""
   ]
  },
  {
   "cell_type": "code",
   "execution_count": 56,
   "metadata": {},
   "outputs": [
    {
     "data": {
      "text/plain": [
       "8"
      ]
     },
     "execution_count": 56,
     "metadata": {},
     "output_type": "execute_result"
    }
   ],
   "source": [
    "s.find('č')"
   ]
  },
  {
   "cell_type": "code",
   "execution_count": 57,
   "metadata": {},
   "outputs": [
    {
     "data": {
      "text/plain": [
       "['Luka Don', 'ić']"
      ]
     },
     "execution_count": 57,
     "metadata": {},
     "output_type": "execute_result"
    }
   ],
   "source": [
    "s.split('č')"
   ]
  },
  {
   "cell_type": "code",
   "execution_count": 58,
   "metadata": {},
   "outputs": [
    {
     "data": {
      "text/plain": [
       "'Luka Doncić'"
      ]
     },
     "execution_count": 58,
     "metadata": {},
     "output_type": "execute_result"
    }
   ],
   "source": [
    "s.replace('č', 'c')"
   ]
  },
  {
   "cell_type": "code",
   "execution_count": 39,
   "metadata": {},
   "outputs": [],
   "source": [
    "first_name, last_name = a.lower().split(' ')"
   ]
  },
  {
   "cell_type": "code",
   "execution_count": 40,
   "metadata": {},
   "outputs": [
    {
     "data": {
      "text/plain": [
       "'harry'"
      ]
     },
     "execution_count": 40,
     "metadata": {},
     "output_type": "execute_result"
    }
   ],
   "source": [
    "first_name"
   ]
  },
  {
   "cell_type": "code",
   "execution_count": 41,
   "metadata": {},
   "outputs": [
    {
     "data": {
      "text/plain": [
       "'giles'"
      ]
     },
     "execution_count": 41,
     "metadata": {},
     "output_type": "execute_result"
    }
   ],
   "source": [
    "last_name"
   ]
  },
  {
   "cell_type": "code",
   "execution_count": 35,
   "metadata": {},
   "outputs": [
    {
     "data": {
      "text/plain": [
       "'HARRY GILES'"
      ]
     },
     "execution_count": 35,
     "metadata": {},
     "output_type": "execute_result"
    }
   ],
   "source": [
    "a.upper()"
   ]
  },
  {
   "cell_type": "code",
   "execution_count": 42,
   "metadata": {},
   "outputs": [
    {
     "data": {
      "text/plain": [
       "'Harry Giles'"
      ]
     },
     "execution_count": 42,
     "metadata": {},
     "output_type": "execute_result"
    }
   ],
   "source": [
    "a.lower().strip"
   ]
  },
  {
   "cell_type": "code",
   "execution_count": null,
   "metadata": {},
   "outputs": [],
   "source": []
  },
  {
   "cell_type": "code",
   "execution_count": null,
   "metadata": {},
   "outputs": [],
   "source": [
    "header."
   ]
  },
  {
   "cell_type": "code",
   "execution_count": 19,
   "metadata": {},
   "outputs": [
    {
     "name": "stdout",
     "output_type": "stream",
     "text": [
      "Season\n",
      "Age\n",
      "Tm\n",
      "Lg\n",
      "Pos\n",
      "G\n",
      "GS\n",
      "MP\n",
      "FG\n",
      "FGA\n",
      "FG%\n",
      "3P\n",
      "3PA\n",
      "3P%\n",
      "2P\n",
      "2PA\n",
      "2P%\n",
      "eFG%\n",
      "FT\n",
      "FTA\n",
      "FT%\n",
      "ORB\n",
      "DRB\n",
      "TRB\n",
      "AST\n",
      "STL\n",
      "BLK\n",
      "TOV\n",
      "PF\n",
      "PTS\n"
     ]
    }
   ],
   "source": [
    "header = []\n",
    "for i in soup.find('table', {'id': 'per_game'}).find('thead').find('tr').find_all('th'):\n",
    "    print(i.text)\n",
    "    header.append(i.text.replace('%','_pct').lower())"
   ]
  },
  {
   "cell_type": "code",
   "execution_count": 36,
   "metadata": {},
   "outputs": [
    {
     "data": {
      "text/plain": [
       "['season',\n",
       " 'age',\n",
       " 'tm',\n",
       " 'lg',\n",
       " 'pos',\n",
       " 'g',\n",
       " 'gs',\n",
       " 'mp',\n",
       " 'fg',\n",
       " 'fga',\n",
       " 'fg_pct',\n",
       " '3p',\n",
       " '3pa',\n",
       " '3p_pct',\n",
       " '2p',\n",
       " '2pa',\n",
       " '2p_pct',\n",
       " 'efg_pct',\n",
       " 'ft',\n",
       " 'fta',\n",
       " 'ft_pct',\n",
       " 'orb',\n",
       " 'drb',\n",
       " 'trb',\n",
       " 'ast',\n",
       " 'stl',\n",
       " 'blk',\n",
       " 'tov',\n",
       " 'pf',\n",
       " 'pts']"
      ]
     },
     "execution_count": 36,
     "metadata": {},
     "output_type": "execute_result"
    }
   ],
   "source": [
    "header"
   ]
  },
  {
   "cell_type": "code",
   "execution_count": 74,
   "metadata": {},
   "outputs": [
    {
     "data": {
      "text/plain": [
       "[4, 5, 6]"
      ]
     },
     "execution_count": 74,
     "metadata": {},
     "output_type": "execute_result"
    }
   ],
   "source": [
    "b"
   ]
  },
  {
   "cell_type": "code",
   "execution_count": 78,
   "metadata": {},
   "outputs": [
    {
     "name": "stdout",
     "output_type": "stream",
     "text": [
      "4\n",
      "5\n",
      "6\n"
     ]
    }
   ],
   "source": [
    "for item in b:\n",
    "    print(item)"
   ]
  },
  {
   "cell_type": "code",
   "execution_count": 79,
   "metadata": {},
   "outputs": [],
   "source": [
    "table = soup.find('table').find('tbody').find_all('tr')"
   ]
  },
  {
   "cell_type": "markdown",
   "metadata": {},
   "source": [
    "3 ways to iterate on data in data structures\n",
    "- for\n",
    "- do while\n",
    "- vectorized # numpy"
   ]
  },
  {
   "cell_type": "code",
   "execution_count": null,
   "metadata": {},
   "outputs": [],
   "source": []
  },
  {
   "cell_type": "code",
   "execution_count": null,
   "metadata": {},
   "outputs": [],
   "source": []
  },
  {
   "cell_type": "code",
   "execution_count": null,
   "metadata": {},
   "outputs": [],
   "source": []
  },
  {
   "cell_type": "code",
   "execution_count": 87,
   "metadata": {},
   "outputs": [],
   "source": [
    "player_data = []\n",
    "for item in soup.find('table').find('tbody').find_all('tr'):\n",
    "    row_data = []\n",
    "    for row in item.children:\n",
    "        # print(row.text)\n",
    "        row_data.append(row.text)\n",
    "    player_data.append(row_data)"
   ]
  },
  {
   "cell_type": "code",
   "execution_count": 91,
   "metadata": {},
   "outputs": [
    {
     "data": {
      "text/plain": [
       "list"
      ]
     },
     "execution_count": 91,
     "metadata": {},
     "output_type": "execute_result"
    }
   ],
   "source": [
    "type(player_data[0])"
   ]
  },
  {
   "cell_type": "code",
   "execution_count": 92,
   "metadata": {},
   "outputs": [
    {
     "data": {
      "text/plain": [
       "list"
      ]
     },
     "execution_count": 92,
     "metadata": {},
     "output_type": "execute_result"
    }
   ],
   "source": [
    "type(player_data)"
   ]
  },
  {
   "cell_type": "code",
   "execution_count": 94,
   "metadata": {},
   "outputs": [
    {
     "data": {
      "text/plain": [
       "str"
      ]
     },
     "execution_count": 94,
     "metadata": {},
     "output_type": "execute_result"
    }
   ],
   "source": [
    "type(player_data[0][0])"
   ]
  },
  {
   "cell_type": "code",
   "execution_count": 95,
   "metadata": {},
   "outputs": [
    {
     "data": {
      "text/plain": [
       "30"
      ]
     },
     "execution_count": 95,
     "metadata": {},
     "output_type": "execute_result"
    }
   ],
   "source": [
    "len(header)"
   ]
  },
  {
   "cell_type": "code",
   "execution_count": 97,
   "metadata": {},
   "outputs": [
    {
     "data": {
      "text/plain": [
       "30"
      ]
     },
     "execution_count": 97,
     "metadata": {},
     "output_type": "execute_result"
    }
   ],
   "source": [
    "len(player_data[0])"
   ]
  },
  {
   "cell_type": "code",
   "execution_count": 101,
   "metadata": {},
   "outputs": [],
   "source": [
    "player_card = []\n",
    "for i in soup.find('table', {'id': 'per_game'}).find('tbody').find_all('tr'):\n",
    "    season = []\n",
    "    for j in i.children: # children gets all element tags in the 'i' object\n",
    "        # print(j.text)\n",
    "        season.append(j.text)\n",
    "    player_card.append(season)"
   ]
  },
  {
   "cell_type": "code",
   "execution_count": 31,
   "metadata": {},
   "outputs": [
    {
     "data": {
      "text/plain": [
       "30"
      ]
     },
     "execution_count": 31,
     "metadata": {},
     "output_type": "execute_result"
    }
   ],
   "source": [
    "len(player_card[0])"
   ]
  },
  {
   "cell_type": "code",
   "execution_count": null,
   "metadata": {},
   "outputs": [],
   "source": []
  },
  {
   "cell_type": "code",
   "execution_count": 103,
   "metadata": {},
   "outputs": [],
   "source": [
    "df = pd.DataFrame(player_card, columns=header)"
   ]
  },
  {
   "cell_type": "code",
   "execution_count": 105,
   "metadata": {},
   "outputs": [],
   "source": [
    "df.insert(2, 'player_name', 'James Harden')"
   ]
  },
  {
   "cell_type": "code",
   "execution_count": 107,
   "metadata": {},
   "outputs": [],
   "source": [
    "df.to_csv('hardeja01.csv', index=False)"
   ]
  },
  {
   "cell_type": "code",
   "execution_count": 108,
   "metadata": {},
   "outputs": [
    {
     "name": "stdout",
     "output_type": "stream",
     "text": [
      "\u001b[31mLICENSE\u001b[m\u001b[m*              \u001b[31mScraping-bbref.ipynb\u001b[m\u001b[m* hardeja01.csv\r\n",
      "\u001b[31mREADME.md\u001b[m\u001b[m*            \u001b[1m\u001b[36mbeginning-python\u001b[m\u001b[m/\r\n"
     ]
    }
   ],
   "source": [
    "ls"
   ]
  },
  {
   "cell_type": "code",
   "execution_count": 109,
   "metadata": {},
   "outputs": [
    {
     "name": "stdout",
     "output_type": "stream",
     "text": [
      "season,age,player_name,tm,lg,pos,g,gs,mp,fg,fga,fg_pct,3p,3pa,3p_pct,2p,2pa,2p_pct,efg_pct,ft,fta,ft_pct,orb,drb,trb,ast,stl,blk,tov,pf,pts\r\n",
      "2009-10,20,James Harden,OKC,NBA,SG,76,0,22.9,3.1,7.6,.403,1.2,3.3,.375,1.8,4.3,.424,.484,2.6,3.2,.808,0.6,2.6,3.2,1.8,1.1,0.3,1.4,2.6,9.9\r\n",
      "2010-11,21,James Harden,OKC,NBA,SG,82,5,26.7,3.6,8.3,.436,1.4,4.0,.349,2.3,4.4,.514,.518,3.5,4.2,.843,0.5,2.6,3.1,2.1,1.1,0.3,1.3,2.5,12.2\r\n",
      "2011-12,22,James Harden,OKC,NBA,SG,62,2,31.4,5.0,10.1,.491,1.8,4.7,.390,3.1,5.4,.579,.582,5.0,6.0,.846,0.5,3.6,4.1,3.7,1.0,0.2,2.2,2.4,16.8\r\n",
      "2012-13,23,James Harden,HOU,NBA,SG,78,78,38.3,7.5,17.1,.438,2.3,6.2,.368,5.2,10.9,.477,.504,8.6,10.2,.851,0.8,4.1,4.9,5.8,1.8,0.5,3.8,2.3,25.9\r\n",
      "2013-14,24,James Harden,HOU,NBA,SG,73,73,38.0,7.5,16.5,.456,2.4,6.6,.366,5.1,9.9,.515,.529,7.9,9.1,.866,0.8,3.9,4.7,6.1,1.6,0.4,3.6,2.4,25.4\r\n",
      "2014-15,25,James Harden,HOU,NBA,SG,81,81,36.8,8.0,18.1,.440,2.6,6.9,.375,5.4,11.3,.480,.511,8.8,10.2,.868,0.9,4.7,5.7,7.0,1.9,0.7,4.0,2.6,27.4\r\n",
      "2015-16,26,James Harden,HOU,NBA,SG,82,82,38.1,8.7,19.7,.439,2.9,8.0,.359,5.8,11.7,.494,.512,8.8,10.2,.860,0.8,5.3,6.1,7.5,1.7,0.6,4.6,2.8,29.0\r\n",
      "2016-17,27,James Harden,HOU,NBA,PG,81,81,36.4,8.3,18.9,.440,3.2,9.3,.347,5.1,9.6,.530,.525,9.2,10.9,.847,1.2,7.0,8.1,11.2,1.5,0.5,5.7,2.7,29.1\r\n",
      "2017-18,28,James Harden,HOU,NBA,SG,72,72,35.4,9.0,20.1,.449,3.7,10.0,.367,5.4,10.1,.531,.541,8.7,10.1,.858,0.6,4.8,5.4,8.8,1.8,0.7,4.4,2.3,30.4\r\n",
      "2018-19,29,James Harden,HOU,NBA,PG,78,78,36.8,10.8,24.5,.442,4.8,13.2,.368,6.0,11.3,.528,.541,9.7,11.0,.879,0.8,5.8,6.6,7.5,2.0,0.7,5.0,3.1,36.1\r\n",
      "2019-20,30,James Harden,HOU,NBA,SG,31,31,37.6,11.1,24.5,.452,5.1,13.8,.372,5.9,10.7,.554,.557,10.9,12.4,.875,1.0,4.8,5.8,7.5,1.9,0.7,4.7,3.4,38.1\r\n"
     ]
    }
   ],
   "source": [
    "cat hardeja01.csv"
   ]
  },
  {
   "cell_type": "code",
   "execution_count": 110,
   "metadata": {},
   "outputs": [],
   "source": [
    "df = pd.read_clipboard()"
   ]
  },
  {
   "cell_type": "code",
   "execution_count": 111,
   "metadata": {},
   "outputs": [
    {
     "data": {
      "text/html": [
       "<div>\n",
       "<style scoped>\n",
       "    .dataframe tbody tr th:only-of-type {\n",
       "        vertical-align: middle;\n",
       "    }\n",
       "\n",
       "    .dataframe tbody tr th {\n",
       "        vertical-align: top;\n",
       "    }\n",
       "\n",
       "    .dataframe thead th {\n",
       "        text-align: right;\n",
       "    }\n",
       "</style>\n",
       "<table border=\"1\" class=\"dataframe\">\n",
       "  <thead>\n",
       "    <tr style=\"text-align: right;\">\n",
       "      <th></th>\n",
       "      <th>Season</th>\n",
       "      <th>Age</th>\n",
       "      <th>Tm</th>\n",
       "      <th>Lg</th>\n",
       "      <th>Pos</th>\n",
       "      <th>G</th>\n",
       "      <th>GS</th>\n",
       "      <th>MP</th>\n",
       "      <th>FG</th>\n",
       "      <th>FGA</th>\n",
       "      <th>...</th>\n",
       "      <th>FT%</th>\n",
       "      <th>ORB</th>\n",
       "      <th>DRB</th>\n",
       "      <th>TRB</th>\n",
       "      <th>AST</th>\n",
       "      <th>STL</th>\n",
       "      <th>BLK</th>\n",
       "      <th>TOV</th>\n",
       "      <th>PF</th>\n",
       "      <th>PTS</th>\n",
       "    </tr>\n",
       "  </thead>\n",
       "  <tbody>\n",
       "    <tr>\n",
       "      <td>0</td>\n",
       "      <td>2009-10</td>\n",
       "      <td>20</td>\n",
       "      <td>OKC</td>\n",
       "      <td>NBA</td>\n",
       "      <td>SG</td>\n",
       "      <td>76</td>\n",
       "      <td>0</td>\n",
       "      <td>22.9</td>\n",
       "      <td>3.1</td>\n",
       "      <td>7.6</td>\n",
       "      <td>...</td>\n",
       "      <td>0.808</td>\n",
       "      <td>0.6</td>\n",
       "      <td>2.6</td>\n",
       "      <td>3.2</td>\n",
       "      <td>1.8</td>\n",
       "      <td>1.1</td>\n",
       "      <td>0.3</td>\n",
       "      <td>1.4</td>\n",
       "      <td>2.6</td>\n",
       "      <td>9.9</td>\n",
       "    </tr>\n",
       "    <tr>\n",
       "      <td>1</td>\n",
       "      <td>2010-11</td>\n",
       "      <td>21</td>\n",
       "      <td>OKC</td>\n",
       "      <td>NBA</td>\n",
       "      <td>SG</td>\n",
       "      <td>82</td>\n",
       "      <td>5</td>\n",
       "      <td>26.7</td>\n",
       "      <td>3.6</td>\n",
       "      <td>8.3</td>\n",
       "      <td>...</td>\n",
       "      <td>0.843</td>\n",
       "      <td>0.5</td>\n",
       "      <td>2.6</td>\n",
       "      <td>3.1</td>\n",
       "      <td>2.1</td>\n",
       "      <td>1.1</td>\n",
       "      <td>0.3</td>\n",
       "      <td>1.3</td>\n",
       "      <td>2.5</td>\n",
       "      <td>12.2</td>\n",
       "    </tr>\n",
       "    <tr>\n",
       "      <td>2</td>\n",
       "      <td>2011-12</td>\n",
       "      <td>22</td>\n",
       "      <td>OKC</td>\n",
       "      <td>NBA</td>\n",
       "      <td>SG</td>\n",
       "      <td>62</td>\n",
       "      <td>2</td>\n",
       "      <td>31.4</td>\n",
       "      <td>5.0</td>\n",
       "      <td>10.1</td>\n",
       "      <td>...</td>\n",
       "      <td>0.846</td>\n",
       "      <td>0.5</td>\n",
       "      <td>3.6</td>\n",
       "      <td>4.1</td>\n",
       "      <td>3.7</td>\n",
       "      <td>1.0</td>\n",
       "      <td>0.2</td>\n",
       "      <td>2.2</td>\n",
       "      <td>2.4</td>\n",
       "      <td>16.8</td>\n",
       "    </tr>\n",
       "    <tr>\n",
       "      <td>3</td>\n",
       "      <td>2012-13</td>\n",
       "      <td>23</td>\n",
       "      <td>HOU</td>\n",
       "      <td>NBA</td>\n",
       "      <td>SG</td>\n",
       "      <td>78</td>\n",
       "      <td>78</td>\n",
       "      <td>38.3</td>\n",
       "      <td>7.5</td>\n",
       "      <td>17.1</td>\n",
       "      <td>...</td>\n",
       "      <td>0.851</td>\n",
       "      <td>0.8</td>\n",
       "      <td>4.1</td>\n",
       "      <td>4.9</td>\n",
       "      <td>5.8</td>\n",
       "      <td>1.8</td>\n",
       "      <td>0.5</td>\n",
       "      <td>3.8</td>\n",
       "      <td>2.3</td>\n",
       "      <td>25.9</td>\n",
       "    </tr>\n",
       "    <tr>\n",
       "      <td>4</td>\n",
       "      <td>2013-14</td>\n",
       "      <td>24</td>\n",
       "      <td>HOU</td>\n",
       "      <td>NBA</td>\n",
       "      <td>SG</td>\n",
       "      <td>73</td>\n",
       "      <td>73</td>\n",
       "      <td>38.0</td>\n",
       "      <td>7.5</td>\n",
       "      <td>16.5</td>\n",
       "      <td>...</td>\n",
       "      <td>0.866</td>\n",
       "      <td>0.8</td>\n",
       "      <td>3.9</td>\n",
       "      <td>4.7</td>\n",
       "      <td>6.1</td>\n",
       "      <td>1.6</td>\n",
       "      <td>0.4</td>\n",
       "      <td>3.6</td>\n",
       "      <td>2.4</td>\n",
       "      <td>25.4</td>\n",
       "    </tr>\n",
       "    <tr>\n",
       "      <td>5</td>\n",
       "      <td>2014-15</td>\n",
       "      <td>25</td>\n",
       "      <td>HOU</td>\n",
       "      <td>NBA</td>\n",
       "      <td>SG</td>\n",
       "      <td>81</td>\n",
       "      <td>81</td>\n",
       "      <td>36.8</td>\n",
       "      <td>8.0</td>\n",
       "      <td>18.1</td>\n",
       "      <td>...</td>\n",
       "      <td>0.868</td>\n",
       "      <td>0.9</td>\n",
       "      <td>4.7</td>\n",
       "      <td>5.7</td>\n",
       "      <td>7.0</td>\n",
       "      <td>1.9</td>\n",
       "      <td>0.7</td>\n",
       "      <td>4.0</td>\n",
       "      <td>2.6</td>\n",
       "      <td>27.4</td>\n",
       "    </tr>\n",
       "    <tr>\n",
       "      <td>6</td>\n",
       "      <td>2015-16</td>\n",
       "      <td>26</td>\n",
       "      <td>HOU</td>\n",
       "      <td>NBA</td>\n",
       "      <td>SG</td>\n",
       "      <td>82</td>\n",
       "      <td>82</td>\n",
       "      <td>38.1</td>\n",
       "      <td>8.7</td>\n",
       "      <td>19.7</td>\n",
       "      <td>...</td>\n",
       "      <td>0.860</td>\n",
       "      <td>0.8</td>\n",
       "      <td>5.3</td>\n",
       "      <td>6.1</td>\n",
       "      <td>7.5</td>\n",
       "      <td>1.7</td>\n",
       "      <td>0.6</td>\n",
       "      <td>4.6</td>\n",
       "      <td>2.8</td>\n",
       "      <td>29.0</td>\n",
       "    </tr>\n",
       "    <tr>\n",
       "      <td>7</td>\n",
       "      <td>2016-17</td>\n",
       "      <td>27</td>\n",
       "      <td>HOU</td>\n",
       "      <td>NBA</td>\n",
       "      <td>PG</td>\n",
       "      <td>81</td>\n",
       "      <td>81</td>\n",
       "      <td>36.4</td>\n",
       "      <td>8.3</td>\n",
       "      <td>18.9</td>\n",
       "      <td>...</td>\n",
       "      <td>0.847</td>\n",
       "      <td>1.2</td>\n",
       "      <td>7.0</td>\n",
       "      <td>8.1</td>\n",
       "      <td>11.2</td>\n",
       "      <td>1.5</td>\n",
       "      <td>0.5</td>\n",
       "      <td>5.7</td>\n",
       "      <td>2.7</td>\n",
       "      <td>29.1</td>\n",
       "    </tr>\n",
       "    <tr>\n",
       "      <td>8</td>\n",
       "      <td>2017-18</td>\n",
       "      <td>28</td>\n",
       "      <td>HOU</td>\n",
       "      <td>NBA</td>\n",
       "      <td>SG</td>\n",
       "      <td>72</td>\n",
       "      <td>72</td>\n",
       "      <td>35.4</td>\n",
       "      <td>9.0</td>\n",
       "      <td>20.1</td>\n",
       "      <td>...</td>\n",
       "      <td>0.858</td>\n",
       "      <td>0.6</td>\n",
       "      <td>4.8</td>\n",
       "      <td>5.4</td>\n",
       "      <td>8.8</td>\n",
       "      <td>1.8</td>\n",
       "      <td>0.7</td>\n",
       "      <td>4.4</td>\n",
       "      <td>2.3</td>\n",
       "      <td>30.4</td>\n",
       "    </tr>\n",
       "    <tr>\n",
       "      <td>9</td>\n",
       "      <td>2018-19</td>\n",
       "      <td>29</td>\n",
       "      <td>HOU</td>\n",
       "      <td>NBA</td>\n",
       "      <td>PG</td>\n",
       "      <td>78</td>\n",
       "      <td>78</td>\n",
       "      <td>36.8</td>\n",
       "      <td>10.8</td>\n",
       "      <td>24.5</td>\n",
       "      <td>...</td>\n",
       "      <td>0.879</td>\n",
       "      <td>0.8</td>\n",
       "      <td>5.8</td>\n",
       "      <td>6.6</td>\n",
       "      <td>7.5</td>\n",
       "      <td>2.0</td>\n",
       "      <td>0.7</td>\n",
       "      <td>5.0</td>\n",
       "      <td>3.1</td>\n",
       "      <td>36.1</td>\n",
       "    </tr>\n",
       "    <tr>\n",
       "      <td>10</td>\n",
       "      <td>2019-20</td>\n",
       "      <td>30</td>\n",
       "      <td>HOU</td>\n",
       "      <td>NBA</td>\n",
       "      <td>SG</td>\n",
       "      <td>31</td>\n",
       "      <td>31</td>\n",
       "      <td>37.6</td>\n",
       "      <td>11.1</td>\n",
       "      <td>24.5</td>\n",
       "      <td>...</td>\n",
       "      <td>0.875</td>\n",
       "      <td>1.0</td>\n",
       "      <td>4.8</td>\n",
       "      <td>5.8</td>\n",
       "      <td>7.5</td>\n",
       "      <td>1.9</td>\n",
       "      <td>0.7</td>\n",
       "      <td>4.7</td>\n",
       "      <td>3.4</td>\n",
       "      <td>38.1</td>\n",
       "    </tr>\n",
       "  </tbody>\n",
       "</table>\n",
       "<p>11 rows × 30 columns</p>\n",
       "</div>"
      ],
      "text/plain": [
       "     Season  Age   Tm   Lg Pos   G  GS    MP    FG   FGA  ...    FT%  ORB  \\\n",
       "0   2009-10   20  OKC  NBA  SG  76   0  22.9   3.1   7.6  ...  0.808  0.6   \n",
       "1   2010-11   21  OKC  NBA  SG  82   5  26.7   3.6   8.3  ...  0.843  0.5   \n",
       "2   2011-12   22  OKC  NBA  SG  62   2  31.4   5.0  10.1  ...  0.846  0.5   \n",
       "3   2012-13   23  HOU  NBA  SG  78  78  38.3   7.5  17.1  ...  0.851  0.8   \n",
       "4   2013-14   24  HOU  NBA  SG  73  73  38.0   7.5  16.5  ...  0.866  0.8   \n",
       "5   2014-15   25  HOU  NBA  SG  81  81  36.8   8.0  18.1  ...  0.868  0.9   \n",
       "6   2015-16   26  HOU  NBA  SG  82  82  38.1   8.7  19.7  ...  0.860  0.8   \n",
       "7   2016-17   27  HOU  NBA  PG  81  81  36.4   8.3  18.9  ...  0.847  1.2   \n",
       "8   2017-18   28  HOU  NBA  SG  72  72  35.4   9.0  20.1  ...  0.858  0.6   \n",
       "9   2018-19   29  HOU  NBA  PG  78  78  36.8  10.8  24.5  ...  0.879  0.8   \n",
       "10  2019-20   30  HOU  NBA  SG  31  31  37.6  11.1  24.5  ...  0.875  1.0   \n",
       "\n",
       "    DRB  TRB   AST  STL  BLK  TOV   PF   PTS  \n",
       "0   2.6  3.2   1.8  1.1  0.3  1.4  2.6   9.9  \n",
       "1   2.6  3.1   2.1  1.1  0.3  1.3  2.5  12.2  \n",
       "2   3.6  4.1   3.7  1.0  0.2  2.2  2.4  16.8  \n",
       "3   4.1  4.9   5.8  1.8  0.5  3.8  2.3  25.9  \n",
       "4   3.9  4.7   6.1  1.6  0.4  3.6  2.4  25.4  \n",
       "5   4.7  5.7   7.0  1.9  0.7  4.0  2.6  27.4  \n",
       "6   5.3  6.1   7.5  1.7  0.6  4.6  2.8  29.0  \n",
       "7   7.0  8.1  11.2  1.5  0.5  5.7  2.7  29.1  \n",
       "8   4.8  5.4   8.8  1.8  0.7  4.4  2.3  30.4  \n",
       "9   5.8  6.6   7.5  2.0  0.7  5.0  3.1  36.1  \n",
       "10  4.8  5.8   7.5  1.9  0.7  4.7  3.4  38.1  \n",
       "\n",
       "[11 rows x 30 columns]"
      ]
     },
     "execution_count": 111,
     "metadata": {},
     "output_type": "execute_result"
    }
   ],
   "source": [
    "df"
   ]
  },
  {
   "cell_type": "code",
   "execution_count": 112,
   "metadata": {},
   "outputs": [
    {
     "data": {
      "text/html": [
       "<div>\n",
       "<style scoped>\n",
       "    .dataframe tbody tr th:only-of-type {\n",
       "        vertical-align: middle;\n",
       "    }\n",
       "\n",
       "    .dataframe tbody tr th {\n",
       "        vertical-align: top;\n",
       "    }\n",
       "\n",
       "    .dataframe thead th {\n",
       "        text-align: right;\n",
       "    }\n",
       "</style>\n",
       "<table border=\"1\" class=\"dataframe\">\n",
       "  <thead>\n",
       "    <tr style=\"text-align: right;\">\n",
       "      <th></th>\n",
       "      <th>Age</th>\n",
       "      <th>G</th>\n",
       "      <th>GS</th>\n",
       "      <th>MP</th>\n",
       "      <th>FG</th>\n",
       "      <th>FGA</th>\n",
       "      <th>FG%</th>\n",
       "      <th>3P</th>\n",
       "      <th>3PA</th>\n",
       "      <th>3P%</th>\n",
       "      <th>...</th>\n",
       "      <th>FT%</th>\n",
       "      <th>ORB</th>\n",
       "      <th>DRB</th>\n",
       "      <th>TRB</th>\n",
       "      <th>AST</th>\n",
       "      <th>STL</th>\n",
       "      <th>BLK</th>\n",
       "      <th>TOV</th>\n",
       "      <th>PF</th>\n",
       "      <th>PTS</th>\n",
       "    </tr>\n",
       "  </thead>\n",
       "  <tbody>\n",
       "    <tr>\n",
       "      <td>count</td>\n",
       "      <td>11.000000</td>\n",
       "      <td>11.000000</td>\n",
       "      <td>11.000000</td>\n",
       "      <td>11.000000</td>\n",
       "      <td>11.000000</td>\n",
       "      <td>11.000000</td>\n",
       "      <td>11.000000</td>\n",
       "      <td>11.000000</td>\n",
       "      <td>11.000000</td>\n",
       "      <td>11.000000</td>\n",
       "      <td>...</td>\n",
       "      <td>11.000000</td>\n",
       "      <td>11.000000</td>\n",
       "      <td>11.000000</td>\n",
       "      <td>11.000000</td>\n",
       "      <td>11.000000</td>\n",
       "      <td>11.000000</td>\n",
       "      <td>11.000000</td>\n",
       "      <td>11.000000</td>\n",
       "      <td>11.000000</td>\n",
       "      <td>11.000000</td>\n",
       "    </tr>\n",
       "    <tr>\n",
       "      <td>mean</td>\n",
       "      <td>25.000000</td>\n",
       "      <td>72.363636</td>\n",
       "      <td>53.000000</td>\n",
       "      <td>34.400000</td>\n",
       "      <td>7.509091</td>\n",
       "      <td>16.854545</td>\n",
       "      <td>0.444182</td>\n",
       "      <td>2.854545</td>\n",
       "      <td>7.818182</td>\n",
       "      <td>0.366909</td>\n",
       "      <td>...</td>\n",
       "      <td>0.854636</td>\n",
       "      <td>0.772727</td>\n",
       "      <td>4.472727</td>\n",
       "      <td>5.245455</td>\n",
       "      <td>6.272727</td>\n",
       "      <td>1.581818</td>\n",
       "      <td>0.509091</td>\n",
       "      <td>3.700000</td>\n",
       "      <td>2.645455</td>\n",
       "      <td>25.481818</td>\n",
       "    </tr>\n",
       "    <tr>\n",
       "      <td>std</td>\n",
       "      <td>3.316625</td>\n",
       "      <td>14.935011</td>\n",
       "      <td>35.521824</td>\n",
       "      <td>5.188063</td>\n",
       "      <td>2.631522</td>\n",
       "      <td>5.881388</td>\n",
       "      <td>0.020697</td>\n",
       "      <td>1.273078</td>\n",
       "      <td>3.484198</td>\n",
       "      <td>0.012136</td>\n",
       "      <td>...</td>\n",
       "      <td>0.019526</td>\n",
       "      <td>0.214900</td>\n",
       "      <td>1.316883</td>\n",
       "      <td>1.475374</td>\n",
       "      <td>2.828459</td>\n",
       "      <td>0.360051</td>\n",
       "      <td>0.186840</td>\n",
       "      <td>1.462874</td>\n",
       "      <td>0.344568</td>\n",
       "      <td>9.055696</td>\n",
       "    </tr>\n",
       "    <tr>\n",
       "      <td>min</td>\n",
       "      <td>20.000000</td>\n",
       "      <td>31.000000</td>\n",
       "      <td>0.000000</td>\n",
       "      <td>22.900000</td>\n",
       "      <td>3.100000</td>\n",
       "      <td>7.600000</td>\n",
       "      <td>0.403000</td>\n",
       "      <td>1.200000</td>\n",
       "      <td>3.300000</td>\n",
       "      <td>0.347000</td>\n",
       "      <td>...</td>\n",
       "      <td>0.808000</td>\n",
       "      <td>0.500000</td>\n",
       "      <td>2.600000</td>\n",
       "      <td>3.100000</td>\n",
       "      <td>1.800000</td>\n",
       "      <td>1.000000</td>\n",
       "      <td>0.200000</td>\n",
       "      <td>1.300000</td>\n",
       "      <td>2.300000</td>\n",
       "      <td>9.900000</td>\n",
       "    </tr>\n",
       "    <tr>\n",
       "      <td>25%</td>\n",
       "      <td>22.500000</td>\n",
       "      <td>72.500000</td>\n",
       "      <td>18.000000</td>\n",
       "      <td>33.400000</td>\n",
       "      <td>6.250000</td>\n",
       "      <td>13.300000</td>\n",
       "      <td>0.438500</td>\n",
       "      <td>2.050000</td>\n",
       "      <td>5.450000</td>\n",
       "      <td>0.362500</td>\n",
       "      <td>...</td>\n",
       "      <td>0.846500</td>\n",
       "      <td>0.600000</td>\n",
       "      <td>3.750000</td>\n",
       "      <td>4.400000</td>\n",
       "      <td>4.750000</td>\n",
       "      <td>1.300000</td>\n",
       "      <td>0.350000</td>\n",
       "      <td>2.900000</td>\n",
       "      <td>2.400000</td>\n",
       "      <td>21.100000</td>\n",
       "    </tr>\n",
       "    <tr>\n",
       "      <td>50%</td>\n",
       "      <td>25.000000</td>\n",
       "      <td>78.000000</td>\n",
       "      <td>73.000000</td>\n",
       "      <td>36.800000</td>\n",
       "      <td>8.000000</td>\n",
       "      <td>18.100000</td>\n",
       "      <td>0.440000</td>\n",
       "      <td>2.600000</td>\n",
       "      <td>6.900000</td>\n",
       "      <td>0.368000</td>\n",
       "      <td>...</td>\n",
       "      <td>0.858000</td>\n",
       "      <td>0.800000</td>\n",
       "      <td>4.700000</td>\n",
       "      <td>5.400000</td>\n",
       "      <td>7.000000</td>\n",
       "      <td>1.700000</td>\n",
       "      <td>0.500000</td>\n",
       "      <td>4.000000</td>\n",
       "      <td>2.600000</td>\n",
       "      <td>27.400000</td>\n",
       "    </tr>\n",
       "    <tr>\n",
       "      <td>75%</td>\n",
       "      <td>27.500000</td>\n",
       "      <td>81.000000</td>\n",
       "      <td>79.500000</td>\n",
       "      <td>37.800000</td>\n",
       "      <td>8.850000</td>\n",
       "      <td>19.900000</td>\n",
       "      <td>0.450500</td>\n",
       "      <td>3.450000</td>\n",
       "      <td>9.650000</td>\n",
       "      <td>0.373500</td>\n",
       "      <td>...</td>\n",
       "      <td>0.867000</td>\n",
       "      <td>0.850000</td>\n",
       "      <td>5.050000</td>\n",
       "      <td>5.950000</td>\n",
       "      <td>7.500000</td>\n",
       "      <td>1.850000</td>\n",
       "      <td>0.700000</td>\n",
       "      <td>4.650000</td>\n",
       "      <td>2.750000</td>\n",
       "      <td>29.750000</td>\n",
       "    </tr>\n",
       "    <tr>\n",
       "      <td>max</td>\n",
       "      <td>30.000000</td>\n",
       "      <td>82.000000</td>\n",
       "      <td>82.000000</td>\n",
       "      <td>38.300000</td>\n",
       "      <td>11.100000</td>\n",
       "      <td>24.500000</td>\n",
       "      <td>0.491000</td>\n",
       "      <td>5.100000</td>\n",
       "      <td>13.800000</td>\n",
       "      <td>0.390000</td>\n",
       "      <td>...</td>\n",
       "      <td>0.879000</td>\n",
       "      <td>1.200000</td>\n",
       "      <td>7.000000</td>\n",
       "      <td>8.100000</td>\n",
       "      <td>11.200000</td>\n",
       "      <td>2.000000</td>\n",
       "      <td>0.700000</td>\n",
       "      <td>5.700000</td>\n",
       "      <td>3.400000</td>\n",
       "      <td>38.100000</td>\n",
       "    </tr>\n",
       "  </tbody>\n",
       "</table>\n",
       "<p>8 rows × 26 columns</p>\n",
       "</div>"
      ],
      "text/plain": [
       "             Age          G         GS         MP         FG        FGA  \\\n",
       "count  11.000000  11.000000  11.000000  11.000000  11.000000  11.000000   \n",
       "mean   25.000000  72.363636  53.000000  34.400000   7.509091  16.854545   \n",
       "std     3.316625  14.935011  35.521824   5.188063   2.631522   5.881388   \n",
       "min    20.000000  31.000000   0.000000  22.900000   3.100000   7.600000   \n",
       "25%    22.500000  72.500000  18.000000  33.400000   6.250000  13.300000   \n",
       "50%    25.000000  78.000000  73.000000  36.800000   8.000000  18.100000   \n",
       "75%    27.500000  81.000000  79.500000  37.800000   8.850000  19.900000   \n",
       "max    30.000000  82.000000  82.000000  38.300000  11.100000  24.500000   \n",
       "\n",
       "             FG%         3P        3PA        3P%  ...        FT%        ORB  \\\n",
       "count  11.000000  11.000000  11.000000  11.000000  ...  11.000000  11.000000   \n",
       "mean    0.444182   2.854545   7.818182   0.366909  ...   0.854636   0.772727   \n",
       "std     0.020697   1.273078   3.484198   0.012136  ...   0.019526   0.214900   \n",
       "min     0.403000   1.200000   3.300000   0.347000  ...   0.808000   0.500000   \n",
       "25%     0.438500   2.050000   5.450000   0.362500  ...   0.846500   0.600000   \n",
       "50%     0.440000   2.600000   6.900000   0.368000  ...   0.858000   0.800000   \n",
       "75%     0.450500   3.450000   9.650000   0.373500  ...   0.867000   0.850000   \n",
       "max     0.491000   5.100000  13.800000   0.390000  ...   0.879000   1.200000   \n",
       "\n",
       "             DRB        TRB        AST        STL        BLK        TOV  \\\n",
       "count  11.000000  11.000000  11.000000  11.000000  11.000000  11.000000   \n",
       "mean    4.472727   5.245455   6.272727   1.581818   0.509091   3.700000   \n",
       "std     1.316883   1.475374   2.828459   0.360051   0.186840   1.462874   \n",
       "min     2.600000   3.100000   1.800000   1.000000   0.200000   1.300000   \n",
       "25%     3.750000   4.400000   4.750000   1.300000   0.350000   2.900000   \n",
       "50%     4.700000   5.400000   7.000000   1.700000   0.500000   4.000000   \n",
       "75%     5.050000   5.950000   7.500000   1.850000   0.700000   4.650000   \n",
       "max     7.000000   8.100000  11.200000   2.000000   0.700000   5.700000   \n",
       "\n",
       "              PF        PTS  \n",
       "count  11.000000  11.000000  \n",
       "mean    2.645455  25.481818  \n",
       "std     0.344568   9.055696  \n",
       "min     2.300000   9.900000  \n",
       "25%     2.400000  21.100000  \n",
       "50%     2.600000  27.400000  \n",
       "75%     2.750000  29.750000  \n",
       "max     3.400000  38.100000  \n",
       "\n",
       "[8 rows x 26 columns]"
      ]
     },
     "execution_count": 112,
     "metadata": {},
     "output_type": "execute_result"
    }
   ],
   "source": []
  },
  {
   "cell_type": "code",
   "execution_count": null,
   "metadata": {},
   "outputs": [],
   "source": []
  },
  {
   "cell_type": "code",
   "execution_count": null,
   "metadata": {},
   "outputs": [],
   "source": []
  },
  {
   "cell_type": "code",
   "execution_count": null,
   "metadata": {},
   "outputs": [],
   "source": []
  },
  {
   "cell_type": "markdown",
   "metadata": {},
   "source": [
    "Who's data is this? What if you put this with a bunch of other player's data, who is who?"
   ]
  },
  {
   "cell_type": "code",
   "execution_count": null,
   "metadata": {},
   "outputs": [],
   "source": []
  },
  {
   "cell_type": "markdown",
   "metadata": {},
   "source": [
    "### reading player plage for all player stats in a season\n",
    "- copy and paste from https://www.basketball-reference.com/leagues/NBA_2020_advanced.html"
   ]
  },
  {
   "cell_type": "code",
   "execution_count": 114,
   "metadata": {},
   "outputs": [],
   "source": [
    "df = pd.read_clipboard()"
   ]
  },
  {
   "cell_type": "code",
   "execution_count": 117,
   "metadata": {},
   "outputs": [
    {
     "data": {
      "text/plain": [
       "Rk     23\n",
       "95      3\n",
       "138     3\n",
       "418     1\n",
       "13      1\n",
       "       ..\n",
       "77      1\n",
       "289     1\n",
       "437     1\n",
       "335     1\n",
       "448     1\n",
       "Name: Rk, Length: 473, dtype: int64"
      ]
     },
     "execution_count": 117,
     "metadata": {},
     "output_type": "execute_result"
    }
   ],
   "source": [
    "df['Rk'].value_counts()"
   ]
  },
  {
   "cell_type": "code",
   "execution_count": 122,
   "metadata": {},
   "outputs": [],
   "source": [
    "df = df[df['Rk'] != 'Rk']"
   ]
  },
  {
   "cell_type": "code",
   "execution_count": 125,
   "metadata": {},
   "outputs": [
    {
     "data": {
      "text/html": [
       "<div>\n",
       "<style scoped>\n",
       "    .dataframe tbody tr th:only-of-type {\n",
       "        vertical-align: middle;\n",
       "    }\n",
       "\n",
       "    .dataframe tbody tr th {\n",
       "        vertical-align: top;\n",
       "    }\n",
       "\n",
       "    .dataframe thead th {\n",
       "        text-align: right;\n",
       "    }\n",
       "</style>\n",
       "<table border=\"1\" class=\"dataframe\">\n",
       "  <thead>\n",
       "    <tr style=\"text-align: right;\">\n",
       "      <th></th>\n",
       "      <th>Rk</th>\n",
       "      <th>Player</th>\n",
       "      <th>Pos</th>\n",
       "      <th>Age</th>\n",
       "      <th>Tm</th>\n",
       "      <th>G</th>\n",
       "      <th>MP</th>\n",
       "      <th>PER</th>\n",
       "      <th>TS%</th>\n",
       "      <th>3PAr</th>\n",
       "      <th>FTr</th>\n",
       "      <th>ORB%</th>\n",
       "      <th>DRB%</th>\n",
       "      <th>TRB%</th>\n",
       "      <th>AST%</th>\n",
       "      <th>STL%</th>\n",
       "      <th>BLK%</th>\n",
       "      <th>TOV%</th>\n",
       "      <th>USG%</th>\n",
       "      <th></th>\n",
       "      <th>OWS</th>\n",
       "      <th>DWS</th>\n",
       "      <th>WS</th>\n",
       "      <th>WS/48</th>\n",
       "      <th>.1</th>\n",
       "      <th>OBPM</th>\n",
       "      <th>DBPM</th>\n",
       "      <th>BPM</th>\n",
       "      <th>VORP</th>\n",
       "    </tr>\n",
       "  </thead>\n",
       "  <tbody>\n",
       "    <tr>\n",
       "      <td>98</td>\n",
       "      <td>95</td>\n",
       "      <td>Jordan Clarkson</td>\n",
       "      <td>SG</td>\n",
       "      <td>27</td>\n",
       "      <td>TOT</td>\n",
       "      <td>30</td>\n",
       "      <td>687</td>\n",
       "      <td>18.7</td>\n",
       "      <td>.575</td>\n",
       "      <td>.488</td>\n",
       "      <td>.254</td>\n",
       "      <td>3.3</td>\n",
       "      <td>7.8</td>\n",
       "      <td>5.5</td>\n",
       "      <td>17.0</td>\n",
       "      <td>1.3</td>\n",
       "      <td>1.0</td>\n",
       "      <td>9.6</td>\n",
       "      <td>25.8</td>\n",
       "      <td>NaN</td>\n",
       "      <td>1.4</td>\n",
       "      <td>0.0</td>\n",
       "      <td>1.5</td>\n",
       "      <td>.102</td>\n",
       "      <td>NaN</td>\n",
       "      <td>3.3</td>\n",
       "      <td>-3.4</td>\n",
       "      <td>-0.2</td>\n",
       "      <td>0.3</td>\n",
       "    </tr>\n",
       "    <tr>\n",
       "      <td>99</td>\n",
       "      <td>95</td>\n",
       "      <td>Jordan Clarkson</td>\n",
       "      <td>SG</td>\n",
       "      <td>27</td>\n",
       "      <td>CLE</td>\n",
       "      <td>29</td>\n",
       "      <td>666</td>\n",
       "      <td>19.3</td>\n",
       "      <td>.581</td>\n",
       "      <td>.488</td>\n",
       "      <td>.264</td>\n",
       "      <td>3.4</td>\n",
       "      <td>8.1</td>\n",
       "      <td>5.7</td>\n",
       "      <td>17.5</td>\n",
       "      <td>1.2</td>\n",
       "      <td>1.0</td>\n",
       "      <td>9.7</td>\n",
       "      <td>25.8</td>\n",
       "      <td>NaN</td>\n",
       "      <td>1.5</td>\n",
       "      <td>0.0</td>\n",
       "      <td>1.5</td>\n",
       "      <td>.110</td>\n",
       "      <td>NaN</td>\n",
       "      <td>3.6</td>\n",
       "      <td>-3.4</td>\n",
       "      <td>0.2</td>\n",
       "      <td>0.4</td>\n",
       "    </tr>\n",
       "    <tr>\n",
       "      <td>100</td>\n",
       "      <td>95</td>\n",
       "      <td>Jordan Clarkson</td>\n",
       "      <td>G</td>\n",
       "      <td>27</td>\n",
       "      <td>UTA</td>\n",
       "      <td>1</td>\n",
       "      <td>21</td>\n",
       "      <td>0.2</td>\n",
       "      <td>.375</td>\n",
       "      <td>.500</td>\n",
       "      <td>.000</td>\n",
       "      <td>0.0</td>\n",
       "      <td>0.0</td>\n",
       "      <td>0.0</td>\n",
       "      <td>0.0</td>\n",
       "      <td>2.3</td>\n",
       "      <td>0.0</td>\n",
       "      <td>7.7</td>\n",
       "      <td>27.0</td>\n",
       "      <td>NaN</td>\n",
       "      <td>-0.1</td>\n",
       "      <td>0.0</td>\n",
       "      <td>-0.1</td>\n",
       "      <td>-0.165</td>\n",
       "      <td>NaN</td>\n",
       "      <td>-8.4</td>\n",
       "      <td>-4.8</td>\n",
       "      <td>-13.3</td>\n",
       "      <td>-0.1</td>\n",
       "    </tr>\n",
       "  </tbody>\n",
       "</table>\n",
       "</div>"
      ],
      "text/plain": [
       "     Rk           Player Pos Age   Tm   G   MP   PER   TS%  3PAr   FTr ORB%  \\\n",
       "98   95  Jordan Clarkson  SG  27  TOT  30  687  18.7  .575  .488  .254  3.3   \n",
       "99   95  Jordan Clarkson  SG  27  CLE  29  666  19.3  .581  .488  .264  3.4   \n",
       "100  95  Jordan Clarkson   G  27  UTA   1   21   0.2  .375  .500  .000  0.0   \n",
       "\n",
       "    DRB% TRB%  AST% STL% BLK% TOV%  USG%        OWS  DWS    WS   WS/48   .1  \\\n",
       "98   7.8  5.5  17.0  1.3  1.0  9.6  25.8  NaN   1.4  0.0   1.5    .102  NaN   \n",
       "99   8.1  5.7  17.5  1.2  1.0  9.7  25.8  NaN   1.5  0.0   1.5    .110  NaN   \n",
       "100  0.0  0.0   0.0  2.3  0.0  7.7  27.0  NaN  -0.1  0.0  -0.1  -0.165  NaN   \n",
       "\n",
       "     OBPM  DBPM    BPM  VORP  \n",
       "98    3.3  -3.4   -0.2   0.3  \n",
       "99    3.6  -3.4    0.2   0.4  \n",
       "100  -8.4  -4.8  -13.3  -0.1  "
      ]
     },
     "execution_count": 125,
     "metadata": {},
     "output_type": "execute_result"
    }
   ],
   "source": [
    "df[df['Rk'] == '95']"
   ]
  },
  {
   "cell_type": "code",
   "execution_count": null,
   "metadata": {},
   "outputs": [],
   "source": []
  }
 ],
 "metadata": {
  "kernelspec": {
   "display_name": "Python 3",
   "language": "python",
   "name": "python3"
  },
  "language_info": {
   "codemirror_mode": {
    "name": "ipython",
    "version": 3
   },
   "file_extension": ".py",
   "mimetype": "text/x-python",
   "name": "python",
   "nbconvert_exporter": "python",
   "pygments_lexer": "ipython3",
   "version": "3.7.4"
  },
  "toc": {
   "base_numbering": 1,
   "nav_menu": {},
   "number_sections": true,
   "sideBar": true,
   "skip_h1_title": false,
   "title_cell": "Table of Contents",
   "title_sidebar": "Contents",
   "toc_cell": false,
   "toc_position": {},
   "toc_section_display": true,
   "toc_window_display": false
  }
 },
 "nbformat": 4,
 "nbformat_minor": 2
}
